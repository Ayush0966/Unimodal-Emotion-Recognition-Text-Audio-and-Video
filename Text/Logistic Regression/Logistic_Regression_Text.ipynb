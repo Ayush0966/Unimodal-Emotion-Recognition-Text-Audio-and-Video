{
  "cells": [
    {
      "cell_type": "code",
      "execution_count": 12,
      "id": "1d7819e0",
      "metadata": {
        "_cell_guid": "b1076dfc-b9ad-4769-8c92-a6c4dae69d19",
        "_uuid": "8f2839f25d086af736a60e9eeb907d3b93b6e0e5",
        "execution": {
          "iopub.execute_input": "2024-11-10T09:11:35.603813Z",
          "iopub.status.busy": "2024-11-10T09:11:35.603215Z",
          "iopub.status.idle": "2024-11-10T09:11:36.673240Z",
          "shell.execute_reply": "2024-11-10T09:11:36.671739Z"
        },
        "papermill": {
          "duration": 1.077754,
          "end_time": "2024-11-10T09:11:36.676202",
          "exception": false,
          "start_time": "2024-11-10T09:11:35.598448",
          "status": "completed"
        },
        "tags": [],
        "colab": {
          "base_uri": "https://localhost:8080/"
        },
        "id": "1d7819e0",
        "outputId": "0c8b486a-724c-4a15-da41-a574686bfc13"
      },
      "outputs": [
        {
          "output_type": "stream",
          "name": "stdout",
          "text": [
            "Training data shape: (16000, 2)\n",
            "Validation data shape: (2000, 2)\n",
            "Test data shape: (2000, 2)\n"
          ]
        }
      ],
      "source": [
        "import numpy as np\n",
        "import pandas as pd\n",
        "import os\n",
        "\n",
        "\n",
        "# Load the datasets from the current directory\n",
        "train_data = pd.read_csv('training.csv')\n",
        "val_data = pd.read_csv('validation.csv')\n",
        "test_data = pd.read_csv('test.csv')\n",
        "\n",
        "# Print shapes of the datasets\n",
        "print(f\"Training data shape: {train_data.shape}\")\n",
        "print(f\"Validation data shape: {val_data.shape}\")\n",
        "print(f\"Test data shape: {test_data.shape}\")\n"
      ]
    },
    {
      "cell_type": "code",
      "execution_count": 18,
      "id": "52f022f2",
      "metadata": {
        "execution": {
          "iopub.execute_input": "2024-11-10T09:11:36.683524Z",
          "iopub.status.busy": "2024-11-10T09:11:36.682945Z",
          "iopub.status.idle": "2024-11-10T09:11:40.440235Z",
          "shell.execute_reply": "2024-11-10T09:11:40.438900Z"
        },
        "papermill": {
          "duration": 3.764842,
          "end_time": "2024-11-10T09:11:40.443863",
          "exception": false,
          "start_time": "2024-11-10T09:11:36.679021",
          "status": "completed"
        },
        "tags": [],
        "id": "52f022f2"
      },
      "outputs": [],
      "source": [
        "# Import necessary libraries\n",
        "import pandas as pd\n",
        "from sklearn.model_selection import train_test_split\n",
        "from sklearn.feature_extraction.text import TfidfVectorizer\n",
        "from sklearn.linear_model import LogisticRegression\n",
        "from sklearn.metrics import classification_report, accuracy_score\n",
        "import matplotlib.pyplot as plt\n",
        "\n",
        "# Load datasets\n",
        "train_df = pd.read_csv('training.csv')\n",
        "val_df = pd.read_csv('validation.csv')\n",
        "test_df = pd.read_csv('test.csv')\n",
        "\n",
        "# Preprocess the text (example: lowercasing and removing non-alphanumeric characters)\n",
        "def preprocess_text(text):\n",
        "    # Lowercase the text\n",
        "    text = text.lower()\n",
        "    # Remove non-alphanumeric characters\n",
        "    text = ''.join([char for char in text if char.isalnum() or char.isspace()])\n",
        "    return text\n",
        "\n",
        "# Apply preprocessing to each dataset\n",
        "train_df['processed_text'] = train_df['text'].apply(preprocess_text)\n",
        "val_df['processed_text'] = val_df['text'].apply(preprocess_text)\n",
        "test_df['processed_text'] = test_df['text'].apply(preprocess_text)\n",
        "\n",
        "# Extract features (X) and labels (y) from the preprocessed text\n",
        "X_train = train_df['processed_text']\n",
        "y_train = train_df['label']\n",
        "X_val = val_df['processed_text']\n",
        "y_val = val_df['label']\n",
        "X_test = test_df['processed_text']\n",
        "y_test = test_df['label']\n",
        "\n",
        "# Convert text data to numeric form using TF-IDF Vectorization\n",
        "vectorizer = TfidfVectorizer(max_features=1000)  # You can adjust the number of features as needed\n",
        "X_train_tfidf = vectorizer.fit_transform(X_train)\n",
        "X_val_tfidf = vectorizer.transform(X_val)\n",
        "X_test_tfidf = vectorizer.transform(X_test)\n",
        "\n",
        "# Train a simple machine learning model (Logistic Regression)\n",
        "model = LogisticRegression(max_iter=1000)  # Set max_iter to ensure convergence\n",
        "model.fit(X_train_tfidf, y_train)\n",
        "\n",
        "# Evaluate the model on the validation set\n",
        "y_val_pred = model.predict(X_val_tfidf)\n",
        "val_accuracy = accuracy_score(y_val, y_val_pred)\n",
        "\n",
        "# Evaluate the model on the test set\n",
        "y_test_pred = model.predict(X_test_tfidf)\n",
        "test_accuracy = accuracy_score(y_test, y_test_pred)"
      ]
    },
    {
      "cell_type": "code",
      "source": [
        "# Print Accuracy and Classification Reports\n",
        "print(\"Validation Accuracy:\", val_accuracy)\n",
        "print(\"Classification Report (Validation):\\n\", classification_report(y_val, y_val_pred))\n",
        "\n",
        "print(\"Test Accuracy:\", test_accuracy)\n",
        "print(\"Classification Report (Test):\\n\", classification_report(y_test, y_test_pred))"
      ],
      "metadata": {
        "colab": {
          "base_uri": "https://localhost:8080/"
        },
        "id": "Bw28CTa7OjWx",
        "outputId": "21924936-a979-43eb-ef9d-df640949b077"
      },
      "id": "Bw28CTa7OjWx",
      "execution_count": 19,
      "outputs": [
        {
          "output_type": "stream",
          "name": "stdout",
          "text": [
            "Validation Accuracy: 0.838\n",
            "Classification Report (Validation):\n",
            "               precision    recall  f1-score   support\n",
            "\n",
            "           0       0.82      0.91      0.87       550\n",
            "           1       0.83      0.93      0.88       704\n",
            "           2       0.86      0.68      0.76       178\n",
            "           3       0.89      0.72      0.80       275\n",
            "           4       0.84      0.71      0.77       212\n",
            "           5       0.82      0.60      0.70        81\n",
            "\n",
            "    accuracy                           0.84      2000\n",
            "   macro avg       0.84      0.76      0.79      2000\n",
            "weighted avg       0.84      0.84      0.83      2000\n",
            "\n",
            "Test Accuracy: 0.8475\n",
            "Classification Report (Test):\n",
            "               precision    recall  f1-score   support\n",
            "\n",
            "           0       0.88      0.92      0.90       581\n",
            "           1       0.82      0.93      0.87       695\n",
            "           2       0.78      0.60      0.68       159\n",
            "           3       0.89      0.77      0.83       275\n",
            "           4       0.87      0.77      0.82       224\n",
            "           5       0.80      0.53      0.64        66\n",
            "\n",
            "    accuracy                           0.85      2000\n",
            "   macro avg       0.84      0.75      0.79      2000\n",
            "weighted avg       0.85      0.85      0.84      2000\n",
            "\n"
          ]
        }
      ]
    }
  ],
  "metadata": {
    "kaggle": {
      "accelerator": "none",
      "dataSources": [
        {
          "datasetId": 1590810,
          "sourceId": 2617192,
          "sourceType": "datasetVersion"
        }
      ],
      "isGpuEnabled": false,
      "isInternetEnabled": true,
      "language": "python",
      "sourceType": "notebook"
    },
    "kernelspec": {
      "display_name": "Python 3",
      "language": "python",
      "name": "python3"
    },
    "language_info": {
      "codemirror_mode": {
        "name": "ipython",
        "version": 3
      },
      "file_extension": ".py",
      "mimetype": "text/x-python",
      "name": "python",
      "nbconvert_exporter": "python",
      "pygments_lexer": "ipython3",
      "version": "3.10.14"
    },
    "papermill": {
      "default_parameters": {},
      "duration": 8.858199,
      "end_time": "2024-11-10T09:11:41.169255",
      "environment_variables": {},
      "exception": null,
      "input_path": "__notebook__.ipynb",
      "output_path": "__notebook__.ipynb",
      "parameters": {},
      "start_time": "2024-11-10T09:11:32.311056",
      "version": "2.6.0"
    },
    "colab": {
      "provenance": []
    }
  },
  "nbformat": 4,
  "nbformat_minor": 5
}