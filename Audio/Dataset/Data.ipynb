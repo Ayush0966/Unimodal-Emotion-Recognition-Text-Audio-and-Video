{
 "cells": [
  {
   "cell_type": "markdown",
   "id": "fd98ee6b",
   "metadata": {},
   "source": [
    "# **Dataset : RAVDESS Emotional speech audio**\n",
    "\n",
    "## **Link** :     https://www.kaggle.com/datasets/uwrfkaggler/ravdess-emotional-speech-audio\n"
   ]
  }
 ],
 "metadata": {
  "language_info": {
   "name": "python"
  }
 },
 "nbformat": 4,
 "nbformat_minor": 5
}
